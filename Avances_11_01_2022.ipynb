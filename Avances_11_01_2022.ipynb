{
  "nbformat": 4,
  "nbformat_minor": 0,
  "metadata": {
    "colab": {
      "name": "Avances 11/01/2022",
      "provenance": [],
      "authorship_tag": "ABX9TyPHu7hHUZj2wUXqzHO+BM/P",
      "include_colab_link": true
    },
    "kernelspec": {
      "name": "python3",
      "display_name": "Python 3"
    },
    "language_info": {
      "name": "python"
    }
  },
  "cells": [
    {
      "cell_type": "markdown",
      "metadata": {
        "id": "view-in-github",
        "colab_type": "text"
      },
      "source": [
        "<a href=\"https://colab.research.google.com/github/yakuoku/David-s-Repository/blob/main/Avances_11_01_2022.ipynb\" target=\"_parent\"><img src=\"https://colab.research.google.com/assets/colab-badge.svg\" alt=\"Open In Colab\"/></a>"
      ]
    },
    {
      "cell_type": "code",
      "execution_count": null,
      "metadata": {
        "colab": {
          "base_uri": "https://localhost:8080/"
        },
        "id": "wwlXk3qQmcRa",
        "outputId": "c2911b93-4910-4adf-85cd-52fce8d2bfb8"
      },
      "outputs": [
        {
          "output_type": "stream",
          "name": "stdout",
          "text": [
            "[[2 4 5 7]\n",
            " [8 3 1 11]\n",
            " [14 6 10 12]\n",
            " [9 13 15 None]]\n",
            "-------------------------------------------------\n",
            "La posicion del numero indeterminado es ( 3 , 3 )\n",
            "Y los numero al rededor son\n",
            "10\n",
            "12\n",
            "15\n",
            "None\n"
          ]
        }
      ],
      "source": [
        "import numpy as np\n",
        "a=np.array([[ 2 , 4 , 5 , 7 ],\n",
        "            [ 8 , 3, 1, 11],\n",
        "            [ 14 , 6 , 10 , 12 ],\n",
        "            [ 9 , 13 , 15 , None ]])\n",
        "print(a)\n",
        "print('-------------------------------------------------')\n",
        "for i in range(len(a)):\n",
        "  for j in range (len(a[0])):\n",
        "    if a[i][j]==None:\n",
        "      print(\"La posicion del numero indeterminado es\",'(',i,',',j,')')\n",
        "      p=i\n",
        "      ñ=j\n",
        "print(\"Y los numero al rededor son\")\n",
        "for x in range (p-1,p+2):\n",
        "  for y in range (ñ-1,ñ+2):\n",
        "    if x<4:\n",
        "        if x>=0:\n",
        "          if y<4:\n",
        "            if y>=0:\n",
        "             print(a[x][y])\n",
        "    else:\n",
        "      pass"
      ]
    },
    {
      "cell_type": "code",
      "source": [
        "a =np.array([[2,    4,  5, 7],\n",
        "     [10, None,  1, 11],\n",
        "     [14,   6,  13, 8],\n",
        "     [ 9,  12,  15, 3]])\n",
        "print(a)\n",
        "print('-------------------------------------------------')\n",
        "for i in range(len(a)):\n",
        "  for j in range (len(a[0])):\n",
        "    if a[i][j]==None:\n",
        "      print(\"La posicion del numero indeterminado es\",'(',i,',',j,')')\n",
        "      p=i\n",
        "      ñ=j\n",
        "print(\"Y los numero al rededor son\")\n",
        "for x in range (p-1,p+2):\n",
        "  for y in range (ñ-1,ñ+2):\n",
        "    if x<4:\n",
        "        if x>=0:\n",
        "          if y<4:\n",
        "            if y>=0:\n",
        "             print(a[x][y])\n",
        "    else:\n",
        "      pass"
      ],
      "metadata": {
        "colab": {
          "base_uri": "https://localhost:8080/"
        },
        "id": "iKeu4mJj_i74",
        "outputId": "6d0e88e9-e5a6-47b5-fe8f-043a87554832"
      },
      "execution_count": null,
      "outputs": [
        {
          "output_type": "stream",
          "name": "stdout",
          "text": [
            "[[2 4 5 7]\n",
            " [10 None 1 11]\n",
            " [14 6 13 8]\n",
            " [9 12 15 3]]\n",
            "-------------------------------------------------\n",
            "La posicion del numero indeterminado es ( 1 , 1 )\n",
            "Y los numero al rededor son\n",
            "2\n",
            "4\n",
            "5\n",
            "10\n",
            "None\n",
            "1\n",
            "14\n",
            "6\n",
            "13\n"
          ]
        }
      ]
    },
    {
      "cell_type": "code",
      "source": [
        "a =np.array([[  2,    4,  5, 7],\n",
        "     [  10,   14,  1, 11],\n",
        "     [None,    6,  13, 8],\n",
        "     [   9,   12,  15, 3]])\n",
        "print(a)\n",
        "print('-------------------------------------------------')\n",
        "for i in range(len(a)):\n",
        "  for j in range (len(a[0])):\n",
        "    if a[i][j]==None:\n",
        "      print(\"La posicion del numero indeterminado es\",'(',i,',',j,')')\n",
        "      p=i\n",
        "      ñ=j\n",
        "print(\"Y los numero al rededor son\")\n",
        "for x in range (p-1,p+2):\n",
        "  for y in range (ñ-1,ñ+2):\n",
        "    if x<4:\n",
        "        if x>=0:\n",
        "          if y<4:\n",
        "            if y>=0:\n",
        "             print(a[x][y])\n",
        "    else:\n",
        "      pass"
      ],
      "metadata": {
        "colab": {
          "base_uri": "https://localhost:8080/"
        },
        "id": "syz1_ZSa_uzP",
        "outputId": "8fad8b89-1964-4903-d288-0391c420ac3b"
      },
      "execution_count": null,
      "outputs": [
        {
          "output_type": "stream",
          "name": "stdout",
          "text": [
            "[[2 4 5 7]\n",
            " [10 14 1 11]\n",
            " [None 6 13 8]\n",
            " [9 12 15 3]]\n",
            "-------------------------------------------------\n",
            "La posicion del numero indeterminado es ( 2 , 0 )\n",
            "Y los numero al rededor son\n",
            "10\n",
            "14\n",
            "None\n",
            "6\n",
            "9\n",
            "12\n"
          ]
        }
      ]
    },
    {
      "cell_type": "code",
      "source": [
        "import numpy as np\n",
        "a=np.array([[ 2 , 4 , 5 , 7 ],\n",
        "            [ 8 , 3, 1, 11],\n",
        "            [ 14 , 6 , 10 , 12 ],\n",
        "            [ 9 , 13 , 15 , None ]])\n",
        "\n",
        "def hallar_pos (num):\n",
        "  y=(num/len(a))-1\n",
        "  dis=int(y)\n",
        "  if y-dis!= 0:\n",
        "    y=int(y+1)\n",
        "  else:\n",
        "    y=int(y)\n",
        "\n",
        "  x=(num-4*y)-1\n",
        "  return y,x\n",
        "\n",
        "hallar_pos(8)\n",
        "\n"
      ],
      "metadata": {
        "colab": {
          "base_uri": "https://localhost:8080/"
        },
        "id": "SEWIAUEX4kM1",
        "outputId": "2aa7b744-bd2c-4ec4-fafc-a25a697675d4"
      },
      "execution_count": null,
      "outputs": [
        {
          "output_type": "execute_result",
          "data": {
            "text/plain": [
              "(1, 3)"
            ]
          },
          "metadata": {},
          "execution_count": 63
        }
      ]
    },
    {
      "cell_type": "code",
      "source": [
        ""
      ],
      "metadata": {
        "id": "EfC3oqfZJMP4"
      },
      "execution_count": null,
      "outputs": []
    }
  ]
}