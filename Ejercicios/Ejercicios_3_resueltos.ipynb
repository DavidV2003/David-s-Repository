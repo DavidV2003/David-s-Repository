{
  "nbformat": 4,
  "nbformat_minor": 0,
  "metadata": {
    "colab": {
      "name": "Ejercicios_3_resueltos.ipynb",
      "provenance": [],
      "collapsed_sections": [],
      "include_colab_link": true
    },
    "kernelspec": {
      "name": "python3",
      "display_name": "Python 3"
    },
    "language_info": {
      "name": "python"
    }
  },
  "cells": [
    {
      "cell_type": "markdown",
      "metadata": {
        "id": "view-in-github",
        "colab_type": "text"
      },
      "source": [
        "<a href=\"https://colab.research.google.com/github/yakuoku/David-s-Repository/blob/main/Ejercicios_3_resueltos.ipynb\" target=\"_parent\"><img src=\"https://colab.research.google.com/assets/colab-badge.svg\" alt=\"Open In Colab\"/></a>"
      ]
    },
    {
      "cell_type": "markdown",
      "metadata": {
        "id": "_XBLq0MTOhWu"
      },
      "source": [
        "# Ejercicio 1\n",
        "\n",
        "Escribir un programa para mostrar sólo los números de una lista (dada) que cumplan las condiciones siguientes ✈⏰♥⌛⛸🏀\n",
        "\n",
        "```lista = [14, 75, 150, 180, 145, 525, 50, 10, 56,55]```\n",
        "\n",
        "1. El número debe ser divisible por cinco 🙏\n",
        "2. Si el número es mayor que 150, sáltelo y pase al siguiente número 🫂\n",
        "3. Si el número es mayor que 500, paren el bucle 🔊"
      ]
    },
    {
      "cell_type": "code",
      "metadata": {
        "id": "KDaEy559chco",
        "colab": {
          "base_uri": "https://localhost:8080/"
        },
        "outputId": "7f3861da-f1d4-4ade-9e41-64a3eaa2fdc2"
      },
      "source": [
        "lista = [14, 75, 150, 180, 145, 525, 50, 10, 56,55]\n",
        "for i in (lista):\n",
        "  if i>500:\n",
        "    print(\"Se acabo\")\n",
        "    break\n",
        "  elif i>150:\n",
        "   pass \n",
        "  elif i%5==0:\n",
        "    print(i)\n",
        "  \n",
        " \n",
        "  "
      ],
      "execution_count": null,
      "outputs": [
        {
          "output_type": "stream",
          "name": "stdout",
          "text": [
            "75\n",
            "150\n",
            "145\n",
            "Se acabo\n"
          ]
        }
      ]
    },
    {
      "cell_type": "markdown",
      "metadata": {
        "id": "Vy7igOV4P05F"
      },
      "source": [
        "# Ejercicio 2\n",
        "\n",
        "Escriba un programa para contar el número **entero** total de dígitos en un número usando un bucle while. ⚪❌💯👍⚡\n",
        "\n",
        "Por ejemplo, el número es 12345, por lo que la salida debe ser 5. 📷🥿🥲😕🔮"
      ]
    },
    {
      "cell_type": "code",
      "metadata": {
        "id": "pG6qSEScciVg",
        "colab": {
          "base_uri": "https://localhost:8080/"
        },
        "outputId": "214abf32-2d6f-4dfe-c26b-d9dc64086a22"
      },
      "source": [
        "n=int(input('Digite su numero: ')) #Manera string\n",
        "while n>0:\n",
        "  n=str(n)  \n",
        "  print(len(n))\n",
        "  break"
      ],
      "execution_count": null,
      "outputs": [
        {
          "output_type": "stream",
          "name": "stdout",
          "text": [
            "Digite su numero: 1234567\n",
            "7\n"
          ]
        }
      ]
    },
    {
      "cell_type": "code",
      "metadata": {
        "colab": {
          "base_uri": "https://localhost:8080/"
        },
        "id": "v22D_ZeFKwne",
        "outputId": "9725d44e-be1a-4a61-d00f-e55c6e38eed7"
      },
      "source": [
        "n=int(input()) #Manera numerica\n",
        "x=0\n",
        "while n>0:\n",
        "    n=int(n/10)\n",
        "    x+=1\n",
        "print(x)"
      ],
      "execution_count": null,
      "outputs": [
        {
          "output_type": "stream",
          "name": "stdout",
          "text": [
            "1232456754321345\n",
            "16\n"
          ]
        }
      ]
    },
    {
      "cell_type": "markdown",
      "metadata": {
        "id": "UQ1RHQk0Qam7"
      },
      "source": [
        "# Ejercicio 3\n",
        "\n",
        "Escriba un programa para usar en bucle para imprimir el siguiente patrón de números inverso. **Ayuda** *Pueden usar un loop anidado* ☣🙂🚒⛴🗃⛲\n",
        "\n",
        "```\n",
        "6 5 4 3 2 1\n",
        "5 4 3 2 1 \n",
        "4 3 2 1 \n",
        "3 2 1\n",
        "2 1 \n",
        "1\n",
        "```"
      ]
    },
    {
      "cell_type": "code",
      "metadata": {
        "id": "zOKon30RQbtb",
        "colab": {
          "base_uri": "https://localhost:8080/"
        },
        "outputId": "9ca45f94-fa6a-43da-bd5a-787258a21955"
      },
      "source": [
        "y=\"\"\n",
        "for i in range(6,-1,-1):\n",
        "  for a in range(0,i):\n",
        "    y+=str(i-a)\n",
        "  print(y)\n",
        "  y=\"\"\n",
        " \n"
      ],
      "execution_count": null,
      "outputs": [
        {
          "output_type": "stream",
          "name": "stdout",
          "text": [
            "654321\n",
            "54321\n",
            "4321\n",
            "321\n",
            "21\n",
            "1\n",
            "\n"
          ]
        }
      ]
    },
    {
      "cell_type": "markdown",
      "metadata": {
        "id": "IQhoIRbzSOTv"
      },
      "source": [
        "# Ejercicio 4\n",
        "\n",
        "Escriba un programa para calcular la suma de la siguiente serie hasta el n-ésimo término. 🧉👒😵🧭🈹🥸\n",
        "\n",
        "$$3+33+333+3333+33333+.....$$\n",
        "\n",
        "Por ejemplo, si n = 5 la serie se convertirá en 3 + 33 + 333 + 3333 + 33333 = 37035 🥸💵🐬⚓♊"
      ]
    },
    {
      "cell_type": "code",
      "metadata": {
        "colab": {
          "base_uri": "https://localhost:8080/"
        },
        "id": "w2bWObKgkbxA",
        "outputId": "67b04a8a-aa19-4543-ffe6-1b55bb25382e"
      },
      "source": [
        "n=int(input('Digite el numero: ')) #Manera numerica\n",
        "sn=0\n",
        "t=0\n",
        "for i in range(0,n):\n",
        "  if i==0:\n",
        "    sn+=3\n",
        "    t+=sn\n",
        "  else:\n",
        "    sn+=3*(10**i)\n",
        "    t+=sn\n",
        "print(sn) #Imprimir el ultimo termino en la sucesion\n",
        "print(t)\n",
        "\n"
      ],
      "execution_count": null,
      "outputs": [
        {
          "output_type": "stream",
          "name": "stdout",
          "text": [
            "Digite el numero: 6\n",
            "333333\n",
            "370368\n"
          ]
        }
      ]
    },
    {
      "cell_type": "code",
      "metadata": {
        "colab": {
          "base_uri": "https://localhost:8080/"
        },
        "id": "VC4sIml6yB1F",
        "outputId": "47655a2a-f2c7-4c3d-c3d8-71d9c611ede4"
      },
      "source": [
        "n=int(input('Digite el numero: ')) #Manera string\n",
        "x=\"\"\n",
        "t=0\n",
        "for i in range(1,n+1):\n",
        " x=\"3\"*i\n",
        " t+=int(x)\n",
        "print(x)\n",
        "print(t)"
      ],
      "execution_count": null,
      "outputs": [
        {
          "output_type": "stream",
          "name": "stdout",
          "text": [
            "Digite el numero: 6\n",
            "333333\n",
            "370368\n"
          ]
        }
      ]
    },
    {
      "cell_type": "markdown",
      "metadata": {
        "id": "H1B88LgXUJqZ"
      },
      "source": [
        "# Ejercicio 5\n",
        "\n",
        "Crear una función que se llama ```funcion_xy``` que tome como argumento una lista de **numeros enteros** (dada, ver mas abajo) y adicionalmente permita la posibilidad de incorporar parametros adicionales ```*args```y ```**kargs```. \n",
        "\n",
        "```lista=[2,1,3,5,4,7,9,8,6,10]```\n",
        "\n",
        "Se requiere que la funcion tenga las siguientes caracteristicas\n",
        "\n",
        "```*args```\n",
        "\n",
        "1. Ordene la lista de menor a mayor y la devuelva como salida.\n",
        "2. Extraiga y muestre solo los numeros pares\n",
        "3. Calcular la media recortada al 10% de la lista. Para eso pueden utilizar importar la siguiente librería:     \n",
        "```from scipy import stats```\n",
        "Y utilizar la función ```stats.trim_mean(lista, 0.1, axis=0)```\n",
        "\n",
        "```**kargs```\n",
        "\n",
        "1. ```reverse == True``` => Debera invertir la lista \n",
        "2. ```odd == True``` => retorna una lista con los nombres 'pares' e 'impares' para cada posicion\n",
        "3. ```filter == True``` => extraer los valores mayores a 4 y mostrarlos\n",
        "\n",
        "\n",
        "**Nota :** En todos los casos n olviden la importancia del return y traten de aplicar todos los conceptos que hemos visto para resolver de la manera más eficiente posible."
      ]
    },
    {
      "cell_type": "code",
      "metadata": {
        "id": "o44GNFLJSI5n"
      },
      "source": [
        "from scipy import stats \n",
        "lista=[2,1,3,5,4,7,9,8,6,10]\n",
        "def funcion_xy(lista, *args, **kargs):\n",
        "  \n",
        "    if args:\n",
        "        print('hay parametros simples adicionales')\n",
        "        print(args)\n",
        "        if args[0]==1:\n",
        "          lista.sort()\n",
        "          return lista\n",
        "\n",
        "        if args[0]==2:\n",
        "          x=[]\n",
        "          for i in range(len(lista)):\n",
        "            if lista[i]%2==0:\n",
        "              x.append(lista[i])#Porque no sirve con pop\n",
        "          return x\n",
        "\n",
        "        if args[0]==3:\n",
        "          x=0\n",
        "          x=stats.trim_mean(lista, 0.1, axis=0)\n",
        "          return x\n",
        "\n",
        "    if kargs.keys():\n",
        "        print('hay parametros complejos adicionales')\n",
        "        print(kargs)\n",
        "\n",
        "        if 'reverse' in kargs.keys():\n",
        "          if kargs['reverse'] == True:\n",
        "            x=lista[::-1]\n",
        "            return x\n",
        "\n",
        "        if 'odd' in kargs.keys(): #Como hacer que se vea horizontal?\n",
        "          x=[]\n",
        "          if kargs['odd'] == True:\n",
        "            for i in range(len(lista)):\n",
        "              if lista[i]%2==0:\n",
        "                x.append(\"par\")\n",
        "              else:\n",
        "                x.append(\"impar\") \n",
        "            return x\n",
        "\n",
        "        if 'filter' in kargs.keys():\n",
        "          x=[]\n",
        "          if kargs['filter'] == True:\n",
        "            for i in range(len(lista)):\n",
        "              lista.sort()\n",
        "              if lista[i]>4:\n",
        "                x.append(lista[i])\n",
        "            return x\n",
        "\n",
        "        if 'may' in kargs.keys():\n",
        "          x=[]\n",
        "          if kargs['may'] == True:\n",
        "            lista.sort()\n",
        "            x=lista[-1:-5] #¿? porque no me coge nada\n",
        "          return x\n",
        "            \n",
        "    "
      ],
      "execution_count": null,
      "outputs": []
    },
    {
      "cell_type": "code",
      "metadata": {
        "colab": {
          "base_uri": "https://localhost:8080/"
        },
        "id": "COsVhjOj_wKl",
        "outputId": "bda1b9c6-fea8-4ccb-843b-da536f6d9941"
      },
      "source": [
        "funcion_xy(lista, 1)\n",
        "#Que pasa si coloco un arg y un karg, ¿Cual le da prioridad o realiza ambos?"
      ],
      "execution_count": null,
      "outputs": [
        {
          "output_type": "stream",
          "name": "stdout",
          "text": [
            "hay parametros simples adicionales\n",
            "(1,)\n"
          ]
        },
        {
          "output_type": "execute_result",
          "data": {
            "text/plain": [
              "[1, 2, 3, 4, 5, 6, 7, 8, 9, 10]"
            ]
          },
          "metadata": {},
          "execution_count": 88
        }
      ]
    },
    {
      "cell_type": "code",
      "metadata": {
        "colab": {
          "base_uri": "https://localhost:8080/"
        },
        "id": "cEPdHKvpwhNz",
        "outputId": "83449c44-3667-4d58-8a0a-0bf8cc88b9b8"
      },
      "source": [
        "funcion_xy(lista, 2)"
      ],
      "execution_count": null,
      "outputs": [
        {
          "output_type": "stream",
          "name": "stdout",
          "text": [
            "hay parametros simples adicionales\n",
            "(2,)\n"
          ]
        },
        {
          "output_type": "execute_result",
          "data": {
            "text/plain": [
              "[2, 4, 6, 8, 10]"
            ]
          },
          "metadata": {},
          "execution_count": 90
        }
      ]
    },
    {
      "cell_type": "code",
      "metadata": {
        "colab": {
          "base_uri": "https://localhost:8080/"
        },
        "id": "KfDaevyFwhdP",
        "outputId": "0372bb0e-b306-4cf4-9fce-840ac2853490"
      },
      "source": [
        "funcion_xy(lista, 3)"
      ],
      "execution_count": null,
      "outputs": [
        {
          "output_type": "stream",
          "name": "stdout",
          "text": [
            "hay parametros simples adicionales\n",
            "(3,)\n"
          ]
        },
        {
          "output_type": "execute_result",
          "data": {
            "text/plain": [
              "5.5"
            ]
          },
          "metadata": {},
          "execution_count": 89
        }
      ]
    },
    {
      "cell_type": "code",
      "metadata": {
        "colab": {
          "base_uri": "https://localhost:8080/"
        },
        "id": "EyT9qbbFwhvq",
        "outputId": "8bd87b19-fd2e-4c22-a57c-8cb420fc7cb8"
      },
      "source": [
        "funcion_xy(lista, reverse=True)"
      ],
      "execution_count": null,
      "outputs": [
        {
          "output_type": "stream",
          "name": "stdout",
          "text": [
            "hay parametros complejos adicionales\n",
            "{'reverse': True}\n"
          ]
        },
        {
          "output_type": "execute_result",
          "data": {
            "text/plain": [
              "[10, 9, 8, 7, 6, 5, 4, 3, 2, 1]"
            ]
          },
          "metadata": {},
          "execution_count": 91
        }
      ]
    },
    {
      "cell_type": "code",
      "metadata": {
        "colab": {
          "base_uri": "https://localhost:8080/"
        },
        "id": "MNwUKMH1wiFF",
        "outputId": "4dca3944-06dd-4d1e-93a0-752e1f90f789"
      },
      "source": [
        "funcion_xy(lista, odd=True)"
      ],
      "execution_count": null,
      "outputs": [
        {
          "output_type": "stream",
          "name": "stdout",
          "text": [
            "hay parametros complejos adicionales\n",
            "{'odd': True}\n"
          ]
        },
        {
          "output_type": "execute_result",
          "data": {
            "text/plain": [
              "['impar',\n",
              " 'par',\n",
              " 'impar',\n",
              " 'par',\n",
              " 'impar',\n",
              " 'par',\n",
              " 'impar',\n",
              " 'par',\n",
              " 'impar',\n",
              " 'par']"
            ]
          },
          "metadata": {},
          "execution_count": 92
        }
      ]
    },
    {
      "cell_type": "code",
      "metadata": {
        "colab": {
          "base_uri": "https://localhost:8080/"
        },
        "id": "yKhBwtxWwiNe",
        "outputId": "b891f3cb-9e26-4c66-d205-9482f2fb3ca0"
      },
      "source": [
        "funcion_xy(lista, filter=True)"
      ],
      "execution_count": null,
      "outputs": [
        {
          "output_type": "stream",
          "name": "stdout",
          "text": [
            "hay parametros complejos adicionales\n",
            "{'filter': True}\n"
          ]
        },
        {
          "output_type": "execute_result",
          "data": {
            "text/plain": [
              "[5, 6, 7, 8, 9, 10]"
            ]
          },
          "metadata": {},
          "execution_count": 87
        }
      ]
    },
    {
      "cell_type": "code",
      "metadata": {
        "colab": {
          "base_uri": "https://localhost:8080/"
        },
        "id": "sjt790xExNtq",
        "outputId": "70510f61-d5d6-4ebc-9c51-0011e823dbb0"
      },
      "source": [
        "funcion_xy(lista, may=True)"
      ],
      "execution_count": null,
      "outputs": [
        {
          "output_type": "stream",
          "name": "stdout",
          "text": [
            "hay parametros complejos adicionales\n",
            "{'may': True}\n"
          ]
        },
        {
          "output_type": "execute_result",
          "data": {
            "text/plain": [
              "[]"
            ]
          },
          "metadata": {},
          "execution_count": 97
        }
      ]
    },
    {
      "cell_type": "code",
      "metadata": {
        "id": "vRwZTH6kcrie",
        "colab": {
          "base_uri": "https://localhost:8080/"
        },
        "outputId": "3f5dd694-895c-40ae-ae41-9a2b19aa7e07"
      },
      "source": [
        "#Pregunta capciosa: ¿Como saber que numeros divide un numero exactamente?\n",
        "n=int(input('Ingrese el numero: '))\n",
        "list=[]\n",
        "for i in range(1,n+1):\n",
        "  if n%i==0:\n",
        "    list.append(i)\n",
        "print(list)"
      ],
      "execution_count": null,
      "outputs": [
        {
          "output_type": "stream",
          "name": "stdout",
          "text": [
            "Ingrese el numero: 20\n",
            "[1, 2, 4, 5, 10, 20]\n"
          ]
        }
      ]
    }
  ]
}
