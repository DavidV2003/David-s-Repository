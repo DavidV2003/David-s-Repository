{
  "cells": [
    {
      "cell_type": "markdown",
      "metadata": {
        "id": "view-in-github",
        "colab_type": "text"
      },
      "source": [
        "<a href=\"https://colab.research.google.com/github/yakuoku/David-s-Repository/blob/main/Avances_12_01_2022.ipynb\" target=\"_parent\"><img src=\"https://colab.research.google.com/assets/colab-badge.svg\" alt=\"Open In Colab\"/></a>"
      ]
    },
    {
      "cell_type": "code",
      "execution_count": 115,
      "metadata": {
        "id": "4nk9EQuMJjq_"
      },
      "outputs": [],
      "source": [
        "import numpy as np\n",
        "\n",
        "m0=np.array([[ 2 , 4 , 5 , 7 ],\n",
        "            [ 8 , 3, 1, 11],\n",
        "            [ 14 , 6 , 10 , 12 ],\n",
        "            [ 9 , 13 , 15 , None ]]) \n",
        "\n",
        "m1=np.array([[  2,    4,  5, 7],\n",
        "     [  10,   14,  1, 11],\n",
        "     [None,    6,  13, 8],\n",
        "     [   9,   12,  15, 3]])\n",
        "\n",
        "m2=np.array([[2,    4,  5, 7],\n",
        "     [10, None,  1, 11],\n",
        "     [14,   6,  13, 8],\n",
        "     [ 9,  12,  15, 3]])\n",
        "\n",
        "def busqueda(mat, num):\n",
        "  for i in range(len(mat)):\n",
        "    for j in range(len(mat[i])):\n",
        "      if mat[i][j]==num:\n",
        "        return (i,j)  \n",
        "\n",
        "\n",
        "def ordenar_mat(mat):\n",
        "    print(mat)\n",
        "    print('------------------')\n",
        "    step = 0\n",
        "    for i in range(len(mat)):\n",
        "      for j in range(len(mat[i])):\n",
        "        step+=1\n",
        "        if step==16:  \n",
        "          break\n",
        "        else:   \n",
        "          num = mat[i][j]\n",
        "          i_n, j_n = busqueda(mat,None)\n",
        "          mat[i_n][j_n] = num\n",
        "          mat[i][j]=None\n",
        "          i_s,j_s=busqueda(mat,step)\n",
        "          mat[i_s][j_s]=None\n",
        "          i_n, j_n = busqueda(mat,None)\n",
        "          mat[i_n][j_n] = step\n",
        "        print(mat)\n",
        "        print('------------------')\n",
        "\n",
        "     \n"
      ]
    },
    {
      "cell_type": "code",
      "source": [
        "  ordenar_mat(m1)"
      ],
      "metadata": {
        "colab": {
          "base_uri": "https://localhost:8080/"
        },
        "id": "eJqtYYpxYEg2",
        "outputId": "b0d3bb83-35fc-4056-ae7e-14b44cda0c99"
      },
      "execution_count": 116,
      "outputs": [
        {
          "output_type": "stream",
          "name": "stdout",
          "text": [
            "[[2 4 5 7]\n",
            " [10 14 1 11]\n",
            " [None 6 13 8]\n",
            " [9 12 15 3]]\n",
            "------------------\n",
            "[[1 4 5 7]\n",
            " [10 14 None 11]\n",
            " [2 6 13 8]\n",
            " [9 12 15 3]]\n",
            "------------------\n",
            "[[1 2 5 7]\n",
            " [10 14 4 11]\n",
            " [None 6 13 8]\n",
            " [9 12 15 3]]\n",
            "------------------\n",
            "[[1 2 3 7]\n",
            " [10 14 4 11]\n",
            " [5 6 13 8]\n",
            " [9 12 15 None]]\n",
            "------------------\n",
            "[[1 2 3 4]\n",
            " [10 14 None 11]\n",
            " [5 6 13 8]\n",
            " [9 12 15 7]]\n",
            "------------------\n",
            "[[1 2 3 4]\n",
            " [5 14 10 11]\n",
            " [None 6 13 8]\n",
            " [9 12 15 7]]\n",
            "------------------\n",
            "[[1 2 3 4]\n",
            " [5 6 10 11]\n",
            " [14 None 13 8]\n",
            " [9 12 15 7]]\n",
            "------------------\n",
            "[[1 2 3 4]\n",
            " [5 6 7 11]\n",
            " [14 10 13 8]\n",
            " [9 12 15 None]]\n",
            "------------------\n",
            "[[1 2 3 4]\n",
            " [5 6 7 8]\n",
            " [14 10 13 None]\n",
            " [9 12 15 11]]\n",
            "------------------\n",
            "[[1 2 3 4]\n",
            " [5 6 7 8]\n",
            " [9 10 13 14]\n",
            " [None 12 15 11]]\n",
            "------------------\n",
            "[[1 2 3 4]\n",
            " [5 6 7 8]\n",
            " [9 10 13 14]\n",
            " [None 12 15 11]]\n",
            "------------------\n",
            "[[1 2 3 4]\n",
            " [5 6 7 8]\n",
            " [9 10 11 14]\n",
            " [13 12 15 None]]\n",
            "------------------\n",
            "[[1 2 3 4]\n",
            " [5 6 7 8]\n",
            " [9 10 11 12]\n",
            " [13 None 15 14]]\n",
            "------------------\n",
            "[[1 2 3 4]\n",
            " [5 6 7 8]\n",
            " [9 10 11 12]\n",
            " [13 None 15 14]]\n",
            "------------------\n",
            "[[1 2 3 4]\n",
            " [5 6 7 8]\n",
            " [9 10 11 12]\n",
            " [13 14 15 None]]\n",
            "------------------\n",
            "[[1 2 3 4]\n",
            " [5 6 7 8]\n",
            " [9 10 11 12]\n",
            " [13 14 15 None]]\n",
            "------------------\n"
          ]
        }
      ]
    }
  ],
  "metadata": {
    "colab": {
      "name": "Avances 12/01/2022",
      "provenance": [],
      "authorship_tag": "ABX9TyOzXaFFEH+PzovZCHnaFo6R",
      "include_colab_link": true
    },
    "kernelspec": {
      "display_name": "Python 3",
      "name": "python3"
    },
    "language_info": {
      "name": "python"
    }
  },
  "nbformat": 4,
  "nbformat_minor": 0
}
