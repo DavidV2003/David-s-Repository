{
  "cells": [
    {
      "cell_type": "markdown",
      "metadata": {
        "id": "view-in-github",
        "colab_type": "text"
      },
      "source": [
        "<a href=\"https://colab.research.google.com/github/yakuoku/David-s-Repository/blob/main/Avances_14_01_2022.ipynb\" target=\"_parent\"><img src=\"https://colab.research.google.com/assets/colab-badge.svg\" alt=\"Open In Colab\"/></a>"
      ]
    },
    {
      "cell_type": "code",
      "execution_count": 246,
      "metadata": {
        "colab": {
          "base_uri": "https://localhost:8080/"
        },
        "id": "9i7UP7vm4jCW",
        "outputId": "f9e970b5-8221-49d7-df70-7f338ea94fee"
      },
      "outputs": [
        {
          "output_type": "stream",
          "name": "stdout",
          "text": [
            "5\n",
            "\n",
            "#\n",
            "##\n",
            "###\n",
            "####\n",
            "#####\n"
          ]
        }
      ],
      "source": [
        "n=input()\n",
        "for i in range(int(n)+1):\n",
        "  a=\"\"\n",
        "  for j in range(i):\n",
        "      a=a+\"#\"\n",
        "  print(a)\n"
      ]
    },
    {
      "cell_type": "code",
      "execution_count": 247,
      "metadata": {
        "colab": {
          "base_uri": "https://localhost:8080/"
        },
        "id": "zLGGlybj-qVN",
        "outputId": "8167377b-e6f3-40e2-a26d-a99e9a0b55f6"
      },
      "outputs": [
        {
          "output_type": "stream",
          "name": "stdout",
          "text": [
            "5\n",
            "     \n",
            "    #\n",
            "   ##\n",
            "  ###\n",
            " ####\n",
            "#####\n"
          ]
        }
      ],
      "source": [
        "n=int(input())\n",
        "for i in range(n+1):\n",
        "  a=\"\"\n",
        "  for j in range(n-i):\n",
        "    a=a+\" \"\n",
        "  for j in range(i):\n",
        "    a=a+\"#\"\n",
        "  print(a)\n",
        "\n"
      ]
    },
    {
      "cell_type": "code",
      "execution_count": 248,
      "metadata": {
        "colab": {
          "base_uri": "https://localhost:8080/"
        },
        "id": "qnecfy6EFmzM",
        "outputId": "2a068582-f146-4bad-9844-63b1139ca289"
      },
      "outputs": [
        {
          "output_type": "stream",
          "name": "stdout",
          "text": [
            "5\n",
            "     \n",
            "    #\n",
            "   ###\n",
            "  #####\n",
            " #######\n",
            "#########     \n",
            "    #\n",
            "   ###\n"
          ]
        }
      ],
      "source": [
        "n=int(input())\n",
        "m=0\n",
        "\n",
        "for i in range(n+1):\n",
        "    a=\"\"\n",
        "    for j in range(n-i):\n",
        "      a=a+\" \"\n",
        "    for j in range(i):\n",
        "      a=a+\"#\"\n",
        "    for j in range(i-1):\n",
        "      a=a+\"#\"\n",
        "    if i!=n:\n",
        "        print(a)\n",
        "    else:\n",
        "        print(a,end=\"\")\n",
        "\n",
        "for i in range(n+1):\n",
        "    m=m+1\n",
        "    a=\"\"\n",
        "    if m<4:\n",
        "      for j in range(n-i):\n",
        "        a=a+\" \"\n",
        "      for j in range(i):\n",
        "        a=a+\"#\"\n",
        "      for j in range(i-1):\n",
        "        a=a+\"#\"\n",
        "    else:\n",
        "      break\n",
        "    print(a)\n",
        "\n",
        "\n"
      ]
    },
    {
      "cell_type": "code",
      "execution_count": 252,
      "metadata": {
        "colab": {
          "base_uri": "https://localhost:8080/"
        },
        "id": "bzhbHKj8RC3L",
        "outputId": "bd7ff8a8-79d7-487d-c539-23b06efbf715"
      },
      "outputs": [
        {
          "output_type": "stream",
          "name": "stdout",
          "text": [
            "5\n",
            "           \n",
            "#         #\n",
            "##       ##\n",
            "###     ###\n",
            "####   ####\n",
            "##### #####\n"
          ]
        }
      ],
      "source": [
        "n=int(input())\n",
        "for i in range(n+1  ):\n",
        "    a=\"\"   \n",
        "    for j in range(i):\n",
        "      a=a+\"#\"\n",
        "    for j in range(((n*2)+1)-(2*i)):\n",
        "      a=a+\" \" \n",
        "    for j in range(i):\n",
        "      a=a+\"#\"\n",
        "    print(a)"
      ]
    },
    {
      "cell_type": "code",
      "execution_count": 253,
      "metadata": {
        "colab": {
          "base_uri": "https://localhost:8080/"
        },
        "id": "zl5xKrEQT4Bf",
        "outputId": "0a710aa7-d708-4054-e596-64712191755a"
      },
      "outputs": [
        {
          "output_type": "stream",
          "name": "stdout",
          "text": [
            "5\n",
            "      \n",
            "    # #\n",
            "   ## ##\n",
            "  ### ###\n",
            " #### ####\n",
            "##### #####\n"
          ]
        }
      ],
      "source": [
        "n=int(input())\n",
        "for i in range(n+1):\n",
        "    a=\"\"\n",
        "    for j in range(n-i):\n",
        "      a=a+\" \"    \n",
        "    for j in range(i):\n",
        "      a=a+\"#\"\n",
        "    for j in range(1):\n",
        "      a=a+\" \"\n",
        "    for j in range(i):\n",
        "      a=a+\"#\"\n",
        "    print(a)"
      ]
    },
    {
      "cell_type": "code",
      "execution_count": 254,
      "metadata": {
        "colab": {
          "base_uri": "https://localhost:8080/"
        },
        "id": "cTyN5ctMW5Vc",
        "outputId": "0ccd83a5-d14d-45d6-88d7-d943985bbc48"
      },
      "outputs": [
        {
          "output_type": "stream",
          "name": "stdout",
          "text": [
            "5\n",
            " #####\n",
            "# ####\n",
            "## ###\n",
            "### ##\n",
            "#### #\n"
          ]
        }
      ],
      "source": [
        "n=int(input())\n",
        "for i in range(n):\n",
        "    a=\"\"   \n",
        "    for j in range(i):\n",
        "      a=a+\"#\"\n",
        "    for j in range(1):\n",
        "      a=a+\" \" \n",
        "    for j in range(n-i):\n",
        "      a=a+\"#\"\n",
        "    print(a)"
      ]
    },
    {
      "cell_type": "code",
      "execution_count": 245,
      "metadata": {
        "colab": {
          "base_uri": "https://localhost:8080/"
        },
        "id": "VnCP4FsxYWZT",
        "outputId": "24d53683-d933-472a-87a4-2f93a26114f4"
      },
      "outputs": [
        {
          "output_type": "stream",
          "name": "stdout",
          "text": [
            "-#-\n",
            "-#-\n"
          ]
        }
      ],
      "source": [
        "n=int(input())\n",
        "m=-1\n",
        "if n%2!=0:\n",
        "  x=(n//2)+1\n",
        "  for i in range(n):\n",
        "      a=\"\" \n",
        "      if i<x:\n",
        "        m=m+1  \n",
        "        for j in range(i):\n",
        "          a=a+\"#\"\n",
        "        for j in range(1):\n",
        "          a=a+\"-\" \n",
        "        for j in range((n-1)-(2*i)):\n",
        "          a=a+\"#\" \n",
        "        for j in range(1):\n",
        "          a=a+\"-\" \n",
        "        for j in range(i):\n",
        "          a=a+\"#\"\n",
        "      else: #3.2.1,0\n",
        "        if m!=0:\n",
        "          m=m-1\n",
        "          for j in range(m):\n",
        "            a=a+\"#\"\n",
        "          for j in range(1):\n",
        "            a=a+\"-\" \n",
        "          for j in range((n-1)-(2*m)):\n",
        "            a=a+\"#\" \n",
        "          for j in range(1):\n",
        "            a=a+\"-\" \n",
        "          for j in range(m):\n",
        "              a=a+\"#\"      \n",
        "        else:\n",
        "          break\n",
        "      print(a)\n",
        "else:\n",
        "  x=(n//2)\n",
        "  for i in range(n):\n",
        "      a=\"\" \n",
        "      if i<x:\n",
        "        m=m+1  \n",
        "        for j in range(i):\n",
        "          a=a+\"#\"\n",
        "        for j in range(1):\n",
        "          a=a+\"-\" \n",
        "        for j in range((n-1)-(2*i)):\n",
        "          a=a+\"#\" \n",
        "        for j in range(1):\n",
        "          a=a+\"-\" \n",
        "        for j in range(i):\n",
        "          a=a+\"#\"\n",
        "\n",
        "      else: #3.2.1,0\n",
        "        if m!=-1:\n",
        "          for j in range(m):\n",
        "            a=a+\"#\"\n",
        "          for j in range(1):\n",
        "            a=a+\"-\" \n",
        "          for j in range((n-1)-(2*m)):\n",
        "            a=a+\"#\" \n",
        "          for j in range(1):\n",
        "            a=a+\"-\" \n",
        "          for j in range(m):\n",
        "            a=a+\"#\"\n",
        "          m=m-1\n",
        "        else:\n",
        "          break\n",
        "      print(a)"
      ]
    },
    {
      "cell_type": "code",
      "execution_count": 259,
      "metadata": {
        "colab": {
          "base_uri": "https://localhost:8080/"
        },
        "id": "DHQQ8LPzigcC",
        "outputId": "5061e915-2e1d-4cc9-8d70-4cc4a0c8eddb"
      },
      "outputs": [
        {
          "output_type": "stream",
          "name": "stdout",
          "text": [
            "5\n",
            "----\n",
            "-##-\n",
            "-##-\n",
            "-##-\n",
            "----\n"
          ]
        }
      ],
      "source": [
        "  n=int(input())\n",
        "  m=0\n",
        "for i in range(n):\n",
        "    m+=1\n",
        "    a=\"\"  \n",
        "    if m==1:\n",
        "      for j in range(n-1):\n",
        "        a=a+\"-\"\n",
        "    elif m!=n:\n",
        "      for j in range(1):\n",
        "        a=a+\"-\"\n",
        "      for j in range(n-3):\n",
        "        a=a+\"#\" \n",
        "      for j in range(1):\n",
        "        a=a+\"-\"\n",
        "    elif m==n:\n",
        "      for j in range(n-1):\n",
        "        a=a+\"-\"      \n",
        "    print(a)"
      ]
    },
    {
      "cell_type": "code",
      "execution_count": 273,
      "metadata": {
        "colab": {
          "base_uri": "https://localhost:8080/"
        },
        "id": "UmsWr-0xjt-N",
        "outputId": "82f4e7f0-5be5-4d82-8dd4-67284c03f93b"
      },
      "outputs": [
        {
          "output_type": "stream",
          "name": "stdout",
          "text": [
            "5\n",
            "-----\n",
            "--#--\n",
            "-###-\n",
            "--#--\n",
            "-----\n"
          ]
        }
      ],
      "source": [
        "n=int(input())\n",
        "m=-1\n",
        "if n%2==0:\n",
        "  mayor=int(n/2)\n",
        "  menor=int(n/2)\n",
        "else:\n",
        "  mayor=int(n-(n//2))\n",
        "  menor=int(n//2)\n",
        "\n",
        "for i in range(n+1):\n",
        "  a=\"\"\n",
        "     #Par\n",
        "  if n%2==0:\n",
        "     x=(n//2)\n",
        "     if i<x:\n",
        "      m=m+1\n",
        "      for j in range((mayor)-i):\n",
        "        a=a+\"-\"\n",
        "      for j in range((i)*2):\n",
        "        a=a+\"#\" \n",
        "      for j in range((menor)-i):\n",
        "        a=a+\"-\"\n",
        "     else: #3.2.1,0\n",
        "        if m!=0:\n",
        "          m=m-1\n",
        "          for j in range((mayor)-m):\n",
        "            a=a+\"-\"\n",
        "          for j in range((m)*2):\n",
        "            a=a+\"#\" \n",
        "          for j in range((menor)-m):\n",
        "            a=a+\"-\"      \n",
        "        else:\n",
        "          break\n",
        "     print(a)\n",
        "\n",
        "      #Impar\n",
        "\n",
        "  else:\n",
        "       x=(n//2)+1\n",
        "       if i<x:\n",
        "        m=m+1\n",
        "        for j in range((mayor)-i):\n",
        "          a=a+\"-\"\n",
        "        for j in range((i*2)-1):\n",
        "          a=a+\"#\"\n",
        "        if i==0:\n",
        "          for j in range(menor):\n",
        "            a=a+\"-\"\n",
        "        else:\n",
        "          for j in range((menor)-(i-1)) :\n",
        "            a=a+\"-\"       \n",
        "       else: #3.2.1,0\n",
        "        if m!=0:\n",
        "          m=m-1\n",
        "          for j in range((mayor)-m):\n",
        "            a=a+\"-\"\n",
        "          for j in range((m*2)-1):\n",
        "            a=a+\"#\"\n",
        "          if m==0:\n",
        "            for j in range(menor):\n",
        "              a=a+\"-\"\n",
        "          else:\n",
        "            for j in range((menor)-(m-1)) :\n",
        "              a=a+\"-\"   \n",
        "        else:\n",
        "            break\n",
        "       print(a)\n"
      ]
    }
  ],
  "metadata": {
    "colab": {
      "name": "Avances 14/01/2022.ipynb",
      "provenance": [],
      "authorship_tag": "ABX9TyNSHhksFNZVt9xGer8jGH2w",
      "include_colab_link": true
    },
    "kernelspec": {
      "display_name": "Python 3",
      "name": "python3"
    },
    "language_info": {
      "name": "python"
    }
  },
  "nbformat": 4,
  "nbformat_minor": 0
}
