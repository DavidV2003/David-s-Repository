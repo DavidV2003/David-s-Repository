{
  "nbformat": 4,
  "nbformat_minor": 0,
  "metadata": {
    "colab": {
      "name": "Avances 12/01/2022",
      "provenance": [],
      "authorship_tag": "ABX9TyO75/tRtndUYRcMgHxaLISM",
      "include_colab_link": true
    },
    "kernelspec": {
      "name": "python3",
      "display_name": "Python 3"
    },
    "language_info": {
      "name": "python"
    }
  },
  "cells": [
    {
      "cell_type": "markdown",
      "metadata": {
        "id": "view-in-github",
        "colab_type": "text"
      },
      "source": [
        "<a href=\"https://colab.research.google.com/github/yakuoku/David-s-Repository/blob/main/Avances_12_01_2022.ipynb\" target=\"_parent\"><img src=\"https://colab.research.google.com/assets/colab-badge.svg\" alt=\"Open In Colab\"/></a>"
      ]
    },
    {
      "cell_type": "code",
      "execution_count": 1,
      "metadata": {
        "colab": {
          "base_uri": "https://localhost:8080/"
        },
        "id": "4nk9EQuMJjq_",
        "outputId": "8e67530f-7127-4cbb-b8a7-f7704eb3bbb5"
      },
      "outputs": [
        {
          "output_type": "execute_result",
          "data": {
            "text/plain": [
              "(1, 3)"
            ]
          },
          "metadata": {},
          "execution_count": 1
        }
      ],
      "source": [
        "import numpy as np\n",
        "a=np.array([[ 2 , 4 , 5 , 7 ],\n",
        "            [ 8 , 3, 1, 11],\n",
        "            [ 14 , 6 , 10 , 12 ],\n",
        "            [ 9 , 13 , 15 , None ]])\n",
        "\n",
        "def hallar_pos (num):\n",
        "  y=(num/len(a))-1\n",
        "  dis=int(y)\n",
        "  if y-dis!= 0:\n",
        "    y=int(y+1)\n",
        "  else:\n",
        "    y=int(y)\n",
        "\n",
        "  x=(num-4*y)-1\n",
        "  return y,x\n",
        "\n",
        "hallar_pos(8)"
      ]
    }
  ]
}