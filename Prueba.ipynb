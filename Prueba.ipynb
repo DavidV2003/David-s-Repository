{
  "nbformat": 4,
  "nbformat_minor": 0,
  "metadata": {
    "colab": {
      "name": "Prueba.ipynb",
      "provenance": [],
      "collapsed_sections": [],
      "authorship_tag": "ABX9TyPCul2shFebq5bMAcIdfHJo",
      "include_colab_link": true
    },
    "kernelspec": {
      "name": "python3",
      "display_name": "Python 3"
    },
    "language_info": {
      "name": "python"
    }
  },
  "cells": [
    {
      "cell_type": "markdown",
      "metadata": {
        "id": "view-in-github",
        "colab_type": "text"
      },
      "source": [
        "<a href=\"https://colab.research.google.com/github/yakuoku/David-s-Repository/blob/main/Prueba.ipynb\" target=\"_parent\"><img src=\"https://colab.research.google.com/assets/colab-badge.svg\" alt=\"Open In Colab\"/></a>"
      ]
    },
    {
      "cell_type": "code",
      "metadata": {
        "colab": {
          "base_uri": "https://localhost:8080/"
        },
        "id": "2xweF2m0CPep",
        "outputId": "5cc151a9-3f9a-451e-9b91-496bc675345a"
      },
      "source": [
        "Battlefield={}\n",
        "Battlefield['tamaño']='200 gb'\n",
        "Battlefield['gameplay']='8h'\n",
        "Battlefield['consola']='PS4'\n",
        "Battlefield['empresa']='EA'\n",
        "Battlefield['precio']=100000\n",
        "\n",
        "Mario={}\n",
        "Mario['tamaño']='10 gb'\n",
        "Mario['gameplay']='4h'\n",
        "Mario['consola']='Nintendo switch'\n",
        "Mario['empresa']='Nintendo'\n",
        "Mario['precio']=50000\n",
        "\n",
        "Overwatch={}\n",
        "Overwatch['tamaño']='50 gb'\n",
        "Overwatch['gameplay']='No posee modo un solo jugador'\n",
        "Overwatch['consola']='PC'\n",
        "Overwatch['empresa']='Blizzard'\n",
        "Overwatch['precio']=100000\n",
        "\n",
        "comprat=(Battlefield['precio']+Mario['precio']+Overwatch['precio'])\n",
        "\n",
        "por=int(((Overwatch['precio']+Mario['precio'])/comprat)*100)\n",
        "\n",
        "print(\"La compra total fue de:\",comprat)\n",
        "\n",
        "print(\"El porcentaje que represento Mario y Overwatch es\",por,\"%\")"
      ],
      "execution_count": 20,
      "outputs": [
        {
          "output_type": "stream",
          "name": "stdout",
          "text": [
            "La compra total fue de: 250000\n",
            "El porcentaje que represento Mario y Overwatch es 60 %\n"
          ]
        }
      ]
    },
    {
      "cell_type": "markdown",
      "metadata": {
        "id": "dH9Evb1ZozVG"
      },
      "source": [
        ""
      ]
    }
  ]
}